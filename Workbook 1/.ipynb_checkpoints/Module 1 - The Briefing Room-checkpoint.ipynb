{
 "cells": [
  {
   "cell_type": "code",
   "execution_count": 1,
   "metadata": {},
   "outputs": [
    {
     "data": {
      "text/plain": [
       "2"
      ]
     },
     "execution_count": 1,
     "metadata": {},
     "output_type": "execute_result"
    }
   ],
   "source": [
    "# 1. This cell has a gray background, so it's a Code cell\n",
    "# 2. Click anywhere in this cell to place your cursor in it\n",
    "# 3. Press Shift + Enter on your keyboard\n",
    "1 + 1"
   ]
  },
  {
   "cell_type": "code",
   "execution_count": 2,
   "metadata": {},
   "outputs": [
    {
     "name": "stdout",
     "output_type": "stream",
     "text": [
      "NumPy version: 1.15.4  (At least 1.11.0 is recommended)\n",
      "Pandas version: 0.23.4  (At least 0.19.0 is recommended)\n"
     ]
    }
   ],
   "source": [
    "import numpy as np\n",
    "print( 'NumPy version:', np.__version__, ' (At least 1.11.0 is recommended)' )\n",
    "\n",
    "import pandas as pd\n",
    "print( 'Pandas version:', pd.__version__, ' (At least 0.19.0 is recommended)' )"
   ]
  },
  {
   "cell_type": "code",
   "execution_count": 3,
   "metadata": {},
   "outputs": [
    {
     "name": "stdout",
     "output_type": "stream",
     "text": [
      "Matplotlib version: 3.0.2  (At least 1.5.0 is recommended)\n",
      "Seaborn version: 0.9.0  (At least 0.7.0 is recommended)\n"
     ]
    }
   ],
   "source": [
    "import matplotlib\n",
    "print( 'Matplotlib version:', matplotlib.__version__, ' (At least 1.5.0 is recommended)' )\n",
    "\n",
    "import seaborn as sns\n",
    "print( 'Seaborn version:', sns.__version__, ' (At least 0.7.0 is recommended)' )"
   ]
  },
  {
   "cell_type": "code",
   "execution_count": 4,
   "metadata": {},
   "outputs": [
    {
     "name": "stdout",
     "output_type": "stream",
     "text": [
      "Scikit-Learn version: 0.20.1  (At least 0.18.0 is recommended)\n"
     ]
    }
   ],
   "source": [
    "import sklearn\n",
    "print( 'Scikit-Learn version:', sklearn.__version__, ' (At least 0.18.0 is recommended)' )"
   ]
  },
  {
   "cell_type": "code",
   "execution_count": 5,
   "metadata": {},
   "outputs": [
    {
     "name": "stdout",
     "output_type": "stream",
     "text": [
      "5 is not divisible by 2. The remainder is 1.\n"
     ]
    }
   ],
   "source": [
    "# Print if 5 is divisible by 2\n",
    "if 5 % 2 == 0:\n",
    "    print( '5 is divisible by 2.' )\n",
    "else:\n",
    "    print( '5 is not divisible by 2. The remainder is {}.'.format(5 % 2) )"
   ]
  },
  {
   "cell_type": "code",
   "execution_count": null,
   "metadata": {},
   "outputs": [],
   "source": []
  }
 ],
 "metadata": {
  "kernelspec": {
   "display_name": "Python 3",
   "language": "python",
   "name": "python3"
  },
  "language_info": {
   "codemirror_mode": {
    "name": "ipython",
    "version": 3
   },
   "file_extension": ".py",
   "mimetype": "text/x-python",
   "name": "python",
   "nbconvert_exporter": "python",
   "pygments_lexer": "ipython3",
   "version": "3.7.1"
  }
 },
 "nbformat": 4,
 "nbformat_minor": 2
}
